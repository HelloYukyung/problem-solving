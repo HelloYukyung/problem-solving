{
 "cells": [
  {
   "cell_type": "markdown",
   "metadata": {},
   "source": [
    "### 백준 문제 1920 \n",
    "\n",
    "N개의 정수 A[1], A[2], …, A[N]이 주어져 있을 때, 이 안에 X라는 정수가 존재하는지 알아내는 프로그램을 작성하시오."
   ]
  },
  {
   "cell_type": "markdown",
   "metadata": {},
   "source": [
    "<b>이분(이진)탐색</b>  : 찾고자 하는 수를 두 부분으로 나눠서 찾는 기법 \n",
    "\n",
    "-> 이진 탐색의 탐색순서 \n",
    "\n",
    "- 탐색 리스트가 정렬이 되어 있지 않다면 정렬 \n",
    "- left, right, mid 를 잡음 \n",
    "- mid 값과 찾고자 하는 값 비교 \n",
    "- mid 값이 더 크면 right 값을 mid -1, mid 값이 더 작으면 left 값을 mid +1로 세팅 \n",
    "- left > right 가 될때까지 반복 \n",
    "\n"
   ]
  },
  {
   "cell_type": "code",
   "execution_count": 2,
   "metadata": {},
   "outputs": [
    {
     "name": "stdout",
     "output_type": "stream",
     "text": [
      "5 6\n"
     ]
    }
   ],
   "source": [
    "# 예제 \n",
    "def binary_search(arr, value):\n",
    "    first, last =0, len(arr)\n",
    "    \n",
    "    while first <= last :\n",
    "        mid =(first+last)//2\n",
    "        if arr[mid]== value:\n",
    "            return mid \n",
    "        if arr[mid]>value:\n",
    "            last = mid - 1 \n",
    "        else:\n",
    "            first= mid + 1\n",
    "\n",
    "arr = [1,2,3,4,5,6,7,8,9,10]\n",
    "result_index = binary_search(arr,6)\n",
    "print(result_index, arr[result_index])\n"
   ]
  },
  {
   "cell_type": "code",
   "execution_count": null,
   "metadata": {},
   "outputs": [],
   "source": [
    "\n",
    "n= int(input())\n",
    "n_list = list(map(int, input().split(' ')))\n",
    "n_list.sort()\n",
    "\n",
    "m= int(input())\n",
    "targets = list(map(int, input().split(' ')))\n",
    "\n",
    "def binary(target):\n",
    "    left = 0 \n",
    "    right = n-1 \n",
    "    \n",
    "    while left <= right :\n",
    "        mid =(left +right) //2\n",
    "        if n_list[mid] ==target:\n",
    "            return True\n",
    "        \n",
    "        if target < n_list[mid]:\n",
    "            right = mid-1 \n",
    "        elif target > n_list[mid]:\n",
    "            left = mid +1\n",
    "            \n",
    "for i in range(m):\n",
    "    if binary(targets[i]):\n",
    "        print(1)\n",
    "    else:\n",
    "        print(0)"
   ]
  }
 ],
 "metadata": {
  "kernelspec": {
   "display_name": "Python 3",
   "language": "python",
   "name": "python3"
  },
  "language_info": {
   "codemirror_mode": {
    "name": "ipython",
    "version": 3
   },
   "file_extension": ".py",
   "mimetype": "text/x-python",
   "name": "python",
   "nbconvert_exporter": "python",
   "pygments_lexer": "ipython3",
   "version": "3.7.3"
  }
 },
 "nbformat": 4,
 "nbformat_minor": 2
}
